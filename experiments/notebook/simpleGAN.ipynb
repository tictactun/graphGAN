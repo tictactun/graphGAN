{
 "cells": [
  {
   "cell_type": "code",
   "execution_count": 10,
   "metadata": {
    "collapsed": true
   },
   "outputs": [],
   "source": [
    "import argparse\n",
    "import numpy as np\n",
    "import tensorflow as tf\n",
    "import matplotlib.pyplot as plt\n",
    "from matplotlib import animation\n",
    "import seaborn as sns\n",
    "\n",
    "sns.set(color_codes=True)\n",
    "\n",
    "seed = 42\n",
    "np.random.seed(seed)\n",
    "tf.set_random_seed(seed)"
   ]
  },
  {
   "cell_type": "code",
   "execution_count": 1,
   "metadata": {
    "collapsed": true
   },
   "outputs": [],
   "source": [
    "class DataDistribution(object):\n",
    "    def __init__(self):\n",
    "        self.mu = 4\n",
    "        self.sigma = 0.5\n",
    "\n",
    "    def sample(self, N):\n",
    "        samples = np.random.normal(self.mu, self.sigma, N)\n",
    "        samples.sort()\n",
    "        return samples"
   ]
  },
  {
   "cell_type": "code",
   "execution_count": 2,
   "metadata": {
    "collapsed": true
   },
   "outputs": [],
   "source": [
    "class GeneratorDistribution(object):\n",
    "    def __init__(self, range):\n",
    "        self.range = range\n",
    "\n",
    "    def sample(self, N):\n",
    "        return np.linspace(-self.range, self.range, N) + \\\n",
    "            np.random.random(N) * 0.01"
   ]
  },
  {
   "cell_type": "code",
   "execution_count": 12,
   "metadata": {
    "collapsed": true
   },
   "outputs": [],
   "source": [
    "def linear(input, output_dim, scope=None, stddev=1.0):\n",
    "    with tf.variable_scope(scope or 'linear'):\n",
    "        w = tf.get_variable(\n",
    "            'w',\n",
    "            [input.get_shape()[1], output_dim],\n",
    "            initializer=tf.random_normal_initializer(stddev=stddev)\n",
    "        )\n",
    "        b = tf.get_variable(\n",
    "            'b',\n",
    "            [output_dim],\n",
    "            initializer=tf.constant_initializer(0.0)\n",
    "        )\n",
    "        return tf.matmul(input, w) + b"
   ]
  },
  {
   "cell_type": "code",
   "execution_count": 3,
   "metadata": {
    "collapsed": true
   },
   "outputs": [],
   "source": [
    "def generator(input, hidden_size):\n",
    "    h0 = tf.nn.softplus(linear(input, hidden_size, 'g0'))\n",
    "    h1 = linear(h0, 1, 'g1')\n",
    "    return h1"
   ]
  },
  {
   "cell_type": "code",
   "execution_count": 4,
   "metadata": {
    "collapsed": true
   },
   "outputs": [],
   "source": [
    "def discriminator(input, hidden_size):\n",
    "    h0 = tf.tanh(linear(input, hidden_size * 2, 'd0'))\n",
    "    h1 = tf.tanh(linear(h0, hidden_size * 2, 'd1'))\n",
    "    h2 = tf.tanh(linear(h1, hidden_size * 2, 'd2'))\n",
    "    h3 = tf.sigmoid(linear(h2, 1, 'd3'))\n",
    "    return h3"
   ]
  },
  {
   "cell_type": "code",
   "execution_count": 7,
   "metadata": {
    "collapsed": true
   },
   "outputs": [],
   "source": [
    "hidden_size = 20"
   ]
  },
  {
   "cell_type": "code",
   "execution_count": 13,
   "metadata": {},
   "outputs": [],
   "source": [
    "with tf.variable_scope('G'):\n",
    "    z = tf.placeholder(tf.float32, shape=(None, 1))\n",
    "    G = generator(z, hidden_size)\n",
    "\n",
    "with tf.variable_scope('D') as scope:\n",
    "    x = tf.placeholder(tf.float32, shape=(None, 1))\n",
    "    D1 = discriminator(x, hidden_size)\n",
    "    scope.reuse_variables()\n",
    "    D2 = discriminator(G, hidden_size)\n",
    "\n",
    "loss_d = tf.reduce_mean(-tf.log(D1) - tf.log(1 - D2))\n",
    "loss_g = tf.reduce_mean(-tf.log(D2))"
   ]
  },
  {
   "cell_type": "code",
   "execution_count": 15,
   "metadata": {},
   "outputs": [],
   "source": [
    "def optimizer(loss, var_list):\n",
    "    learning_rate = 0.001\n",
    "    step = tf.Variable(0, trainable=False)\n",
    "    optimizer = tf.train.AdamOptimizer(learning_rate).minimize(\n",
    "        loss,\n",
    "        global_step=step,\n",
    "        var_list=var_list\n",
    "    )\n",
    "    return optimizer"
   ]
  },
  {
   "cell_type": "code",
   "execution_count": 16,
   "metadata": {
    "collapsed": true
   },
   "outputs": [],
   "source": [
    "def minibatch(input, num_kernels=5, kernel_dim=3):\n",
    "    x = linear(input, num_kernels * kernel_dim, scope='minibatch', stddev=0.02)\n",
    "    activation = tf.reshape(x, (-1, num_kernels, kernel_dim))\n",
    "    diffs = tf.expand_dims(activation, 3) - \\\n",
    "        tf.expand_dims(tf.transpose(activation, [1, 2, 0]), 0)\n",
    "    abs_diffs = tf.reduce_sum(tf.abs(diffs), 2)\n",
    "    minibatch_features = tf.reduce_sum(tf.exp(-abs_diffs), 2)\n",
    "    return tf.concat([input, minibatch_features], 1)"
   ]
  },
  {
   "cell_type": "code",
   "execution_count": null,
   "metadata": {
    "collapsed": true
   },
   "outputs": [],
   "source": []
  }
 ],
 "metadata": {
  "kernelspec": {
   "display_name": "tf3",
   "language": "python",
   "name": "tf3"
  },
  "language_info": {
   "codemirror_mode": {
    "name": "ipython",
    "version": 3
   },
   "file_extension": ".py",
   "mimetype": "text/x-python",
   "name": "python",
   "nbconvert_exporter": "python",
   "pygments_lexer": "ipython3",
   "version": "3.6.1"
  }
 },
 "nbformat": 4,
 "nbformat_minor": 2
}
