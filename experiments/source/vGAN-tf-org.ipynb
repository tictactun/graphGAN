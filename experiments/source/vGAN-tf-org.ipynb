{
 "cells": [
  {
   "cell_type": "code",
   "execution_count": 1,
   "metadata": {
    "collapsed": true
   },
   "outputs": [],
   "source": [
    "import tensorflow as tf\n",
    "from tensorflow.examples.tutorials.mnist import input_data\n",
    "import numpy as np\n",
    "import matplotlib.pyplot as plt\n",
    "import matplotlib.gridspec as gridspec\n",
    "import os"
   ]
  },
  {
   "cell_type": "markdown",
   "metadata": {},
   "source": [
    "### Hyper params"
   ]
  },
  {
   "cell_type": "code",
   "execution_count": 2,
   "metadata": {},
   "outputs": [
    {
     "name": "stdout",
     "output_type": "stream",
     "text": [
      "Extracting ../dataset/MNIST_data/train-images-idx3-ubyte.gz\n",
      "Extracting ../dataset/MNIST_data/train-labels-idx1-ubyte.gz\n",
      "Extracting ../dataset/MNIST_data/t10k-images-idx3-ubyte.gz\n",
      "Extracting ../dataset/MNIST_data/t10k-labels-idx1-ubyte.gz\n"
     ]
    }
   ],
   "source": [
    "mnist = input_data.read_data_sets('../dataset/MNIST_data', one_hot=True)"
   ]
  },
  {
   "cell_type": "code",
   "execution_count": 3,
   "metadata": {
    "collapsed": true
   },
   "outputs": [],
   "source": [
    "mb_size = 64\n",
    "Z_dim = 100\n",
    "X_dim = mnist.train.images.shape[1]\n",
    "y_dim = mnist.train.labels.shape[1]\n",
    "h_dim = 128"
   ]
  },
  {
   "cell_type": "code",
   "execution_count": 4,
   "metadata": {
    "collapsed": true
   },
   "outputs": [],
   "source": [
    "c = 0\n",
    "lr = 1e-3"
   ]
  },
  {
   "cell_type": "code",
   "execution_count": 5,
   "metadata": {
    "collapsed": true
   },
   "outputs": [],
   "source": [
    "def xavier_init(size):\n",
    "    in_dim = size[0]\n",
    "    xavier_stddev = 1. / tf.sqrt(in_dim / 2.)\n",
    "    return tf.random_normal(shape=size, stddev=xavier_stddev)"
   ]
  },
  {
   "cell_type": "markdown",
   "metadata": {},
   "source": [
    "### Geneartor"
   ]
  },
  {
   "cell_type": "code",
   "execution_count": 6,
   "metadata": {
    "collapsed": true
   },
   "outputs": [],
   "source": [
    "Z = tf.placeholder(tf.float32, shape=[None, Z_dim])\n",
    "\n",
    "G_W1 = tf.Variable(xavier_init([Z_dim, h_dim]))\n",
    "G_b1 = tf.Variable(tf.zeros(shape=[h_dim]))\n",
    "\n",
    "G_W2 = tf.Variable(xavier_init([h_dim, X_dim]))\n",
    "G_b2 = tf.Variable(tf.zeros(shape=[X_dim]))\n",
    "\n",
    "theta_G = [G_W1, G_W2, G_b1, G_b2]"
   ]
  },
  {
   "cell_type": "code",
   "execution_count": 7,
   "metadata": {
    "collapsed": true
   },
   "outputs": [],
   "source": [
    "def generator(z):\n",
    "    G_h1 = tf.nn.relu(tf.matmul(z, G_W1) + G_b1)\n",
    "    G_log_prob = tf.matmul(G_h1, G_W2) + G_b2\n",
    "    G_prob = tf.nn.sigmoid(G_log_prob)\n",
    "\n",
    "    return G_prob"
   ]
  },
  {
   "cell_type": "markdown",
   "metadata": {},
   "source": [
    "### Discriminator"
   ]
  },
  {
   "cell_type": "code",
   "execution_count": 8,
   "metadata": {
    "collapsed": true
   },
   "outputs": [],
   "source": [
    "X = tf.placeholder(tf.float32, shape=[None, X_dim])\n",
    "D_W1 = tf.Variable(xavier_init([X_dim, h_dim]))\n",
    "D_b1 = tf.Variable(tf.zeros(shape=[h_dim]))\n",
    "\n",
    "D_W2 = tf.Variable(xavier_init([h_dim, 1]))\n",
    "D_b2 = tf.Variable(tf.zeros(shape=[1]))\n",
    "\n",
    "theta_D = [D_W1, D_W2, D_b1, D_b2]"
   ]
  },
  {
   "cell_type": "code",
   "execution_count": 9,
   "metadata": {
    "collapsed": true
   },
   "outputs": [],
   "source": [
    "def discriminator(x):\n",
    "    D_h1 = tf.nn.relu(tf.matmul(x, D_W1) + D_b1)\n",
    "    D_logit = tf.matmul(D_h1, D_W2) + D_b2\n",
    "    D_prob = tf.nn.sigmoid(D_logit)\n",
    "\n",
    "    return D_prob, D_logit"
   ]
  },
  {
   "cell_type": "markdown",
   "metadata": {},
   "source": [
    "###  Training"
   ]
  },
  {
   "cell_type": "code",
   "execution_count": 10,
   "metadata": {
    "collapsed": true
   },
   "outputs": [],
   "source": [
    "def sample_Z(m, n):\n",
    "    return np.random.uniform(-1., 1., size=[m, n])\n",
    "# .astype(np.float32)"
   ]
  },
  {
   "cell_type": "code",
   "execution_count": 11,
   "metadata": {
    "collapsed": true
   },
   "outputs": [],
   "source": [
    "def plot(samples):\n",
    "    fig = plt.figure(figsize=(4, 4))\n",
    "    gs = gridspec.GridSpec(4, 4)\n",
    "    gs.update(wspace=0.05, hspace=0.05)\n",
    "\n",
    "    for i, sample in enumerate(samples):\n",
    "        ax = plt.subplot(gs[i])\n",
    "        plt.axis('off')\n",
    "        ax.set_xticklabels([])\n",
    "        ax.set_yticklabels([])\n",
    "        ax.set_aspect('equal')\n",
    "        plt.imshow(sample.reshape(28, 28), cmap='Greys_r')\n",
    "\n",
    "    return fig"
   ]
  },
  {
   "cell_type": "markdown",
   "metadata": {},
   "source": [
    "#### Generate data"
   ]
  },
  {
   "cell_type": "code",
   "execution_count": 12,
   "metadata": {
    "collapsed": true
   },
   "outputs": [],
   "source": [
    "G_sample = generator(Z)"
   ]
  },
  {
   "cell_type": "code",
   "execution_count": 13,
   "metadata": {
    "collapsed": true
   },
   "outputs": [],
   "source": [
    "D_real, D_logit_real = discriminator(X)"
   ]
  },
  {
   "cell_type": "code",
   "execution_count": 14,
   "metadata": {
    "collapsed": true
   },
   "outputs": [],
   "source": [
    "D_fake, D_logit_fake = discriminator(G_sample)"
   ]
  },
  {
   "cell_type": "markdown",
   "metadata": {},
   "source": [
    "#### Loss"
   ]
  },
  {
   "cell_type": "code",
   "execution_count": 15,
   "metadata": {
    "collapsed": true
   },
   "outputs": [],
   "source": [
    "D_loss_real = tf.reduce_mean(\n",
    "    tf.nn.sigmoid_cross_entropy_with_logits(\n",
    "        logits=D_logit_real, labels=tf.ones_like(D_logit_real)))\n",
    "D_loss_fake = tf.reduce_mean(\n",
    "    tf.nn.sigmoid_cross_entropy_with_logits(\n",
    "        logits=D_logit_fake, labels=tf.zeros_like(D_logit_fake)))\n",
    "D_loss = D_loss_real + D_loss_fake\n",
    "\n",
    "G_loss = tf.reduce_mean(\n",
    "    tf.nn.sigmoid_cross_entropy_with_logits(\n",
    "        logits=D_logit_fake, labels=tf.ones_like(D_logit_fake)))"
   ]
  },
  {
   "cell_type": "markdown",
   "metadata": {},
   "source": [
    "#### Optimize"
   ]
  },
  {
   "cell_type": "code",
   "execution_count": 16,
   "metadata": {
    "collapsed": true
   },
   "outputs": [],
   "source": [
    "D_solver = tf.train.AdamOptimizer().minimize(D_loss, var_list=theta_D)\n",
    "G_solver = tf.train.AdamOptimizer().minimize(G_loss, var_list=theta_G)"
   ]
  },
  {
   "cell_type": "markdown",
   "metadata": {},
   "source": [
    "#### Running"
   ]
  },
  {
   "cell_type": "code",
   "execution_count": 17,
   "metadata": {
    "collapsed": true
   },
   "outputs": [],
   "source": [
    "sess = tf.Session()\n",
    "sess.run(tf.global_variables_initializer())"
   ]
  },
  {
   "cell_type": "code",
   "execution_count": 18,
   "metadata": {
    "collapsed": true
   },
   "outputs": [],
   "source": [
    "if not os.path.exists('out3/'):\n",
    "    os.makedirs('out3/')"
   ]
  },
  {
   "cell_type": "code",
   "execution_count": 25,
   "metadata": {},
   "outputs": [
    {
     "name": "stdout",
     "output_type": "stream",
     "text": [
      "Iter: 0\n",
      "D loss: 0.6495\n",
      "G_loss: 1.903\n",
      "\n",
      "Iter: 1000\n",
      "D loss: 0.6043\n",
      "G_loss: 2.192\n",
      "\n",
      "Iter: 2000\n",
      "D loss: 0.5845\n",
      "G_loss: 3.203\n",
      "\n",
      "Iter: 3000\n",
      "D loss: 0.6266\n",
      "G_loss: 2.292\n",
      "\n",
      "Iter: 4000\n",
      "D loss: 0.5103\n",
      "G_loss: 2.827\n",
      "\n",
      "Iter: 5000\n",
      "D loss: 0.618\n",
      "G_loss: 2.403\n",
      "\n",
      "Iter: 6000\n",
      "D loss: 0.6582\n",
      "G_loss: 2.345\n",
      "\n",
      "Iter: 7000\n",
      "D loss: 0.5362\n",
      "G_loss: 2.757\n",
      "\n",
      "Iter: 8000\n",
      "D loss: 0.6282\n",
      "G_loss: 2.415\n",
      "\n",
      "Iter: 9000\n",
      "D loss: 0.6005\n",
      "G_loss: 2.52\n",
      "\n",
      "Iter: 10000\n",
      "D loss: 0.5824\n",
      "G_loss: 2.455\n",
      "\n",
      "Iter: 11000\n",
      "D loss: 0.5937\n",
      "G_loss: 2.62\n",
      "\n",
      "Iter: 12000\n",
      "D loss: 0.5537\n",
      "G_loss: 2.626\n",
      "\n",
      "Iter: 13000\n",
      "D loss: 0.5458\n",
      "G_loss: 2.743\n",
      "\n",
      "Iter: 14000\n",
      "D loss: 0.4806\n",
      "G_loss: 3.035\n",
      "\n",
      "Iter: 15000\n",
      "D loss: 0.5165\n",
      "G_loss: 2.811\n",
      "\n",
      "Iter: 16000\n",
      "D loss: 0.5052\n",
      "G_loss: 2.929\n",
      "\n",
      "Iter: 17000\n",
      "D loss: 0.4979\n",
      "G_loss: 2.94\n",
      "\n",
      "Iter: 18000\n",
      "D loss: 0.4818\n",
      "G_loss: 2.934\n",
      "\n",
      "Iter: 19000\n",
      "D loss: 0.5123\n",
      "G_loss: 2.767\n",
      "\n",
      "Iter: 20000\n",
      "D loss: 0.4727\n",
      "G_loss: 3.042\n",
      "\n",
      "Iter: 21000\n",
      "D loss: 0.4589\n",
      "G_loss: 2.994\n",
      "\n",
      "Iter: 22000\n",
      "D loss: 0.4831\n",
      "G_loss: 3.003\n",
      "\n",
      "Iter: 23000\n",
      "D loss: 0.4801\n",
      "G_loss: 3.026\n",
      "\n",
      "Iter: 24000\n",
      "D loss: 0.512\n",
      "G_loss: 2.877\n",
      "\n",
      "Iter: 25000\n",
      "D loss: 0.4782\n",
      "G_loss: 2.931\n",
      "\n",
      "Iter: 26000\n",
      "D loss: 0.4569\n",
      "G_loss: 2.913\n",
      "\n",
      "Iter: 27000\n",
      "D loss: 0.4496\n",
      "G_loss: 3.04\n",
      "\n",
      "Iter: 28000\n",
      "D loss: 0.4769\n",
      "G_loss: 2.996\n",
      "\n",
      "Iter: 29000\n",
      "D loss: 0.4586\n",
      "G_loss: 2.996\n",
      "\n",
      "Iter: 30000\n",
      "D loss: 0.4232\n",
      "G_loss: 3.124\n",
      "\n",
      "Iter: 31000\n",
      "D loss: 0.4579\n",
      "G_loss: 3.08\n",
      "\n",
      "Iter: 32000\n",
      "D loss: 0.4537\n",
      "G_loss: 2.972\n",
      "\n",
      "Iter: 33000\n",
      "D loss: 0.4785\n",
      "G_loss: 3.003\n",
      "\n",
      "Iter: 34000\n",
      "D loss: 0.4583\n",
      "G_loss: 2.939\n",
      "\n",
      "Iter: 35000\n",
      "D loss: 0.4927\n",
      "G_loss: 2.938\n",
      "\n",
      "Iter: 36000\n",
      "D loss: 0.4734\n",
      "G_loss: 2.997\n",
      "\n",
      "Iter: 37000\n",
      "D loss: 0.4669\n",
      "G_loss: 2.998\n",
      "\n",
      "Iter: 38000\n",
      "D loss: 0.4319\n",
      "G_loss: 3.059\n",
      "\n",
      "Iter: 39000\n",
      "D loss: 0.4822\n",
      "G_loss: 3.047\n",
      "\n",
      "Iter: 40000\n",
      "D loss: 0.4354\n",
      "G_loss: 3.138\n",
      "\n",
      "Iter: 41000\n",
      "D loss: 0.4464\n",
      "G_loss: 3.045\n",
      "\n",
      "Iter: 42000\n",
      "D loss: 0.4375\n",
      "G_loss: 3.071\n",
      "\n",
      "Iter: 43000\n",
      "D loss: 0.4459\n",
      "G_loss: 3.011\n",
      "\n",
      "Iter: 44000\n",
      "D loss: 0.4383\n",
      "G_loss: 3.09\n",
      "\n",
      "Iter: 45000\n",
      "D loss: 0.4806\n",
      "G_loss: 3.007\n",
      "\n",
      "Iter: 46000\n",
      "D loss: 0.4485\n",
      "G_loss: 3.052\n",
      "\n",
      "Iter: 47000\n",
      "D loss: 0.4551\n",
      "G_loss: 3.044\n",
      "\n",
      "Iter: 48000\n",
      "D loss: 0.4439\n",
      "G_loss: 3.019\n",
      "\n",
      "Iter: 49000\n",
      "D loss: 0.4557\n",
      "G_loss: 2.941\n",
      "\n",
      "Iter: 50000\n",
      "D loss: 0.4575\n",
      "G_loss: 2.994\n",
      "\n",
      "Iter: 51000\n",
      "D loss: 0.4702\n",
      "G_loss: 3.056\n",
      "\n",
      "Iter: 52000\n",
      "D loss: 0.4386\n",
      "G_loss: 3.08\n",
      "\n",
      "Iter: 53000\n",
      "D loss: 0.4626\n",
      "G_loss: 3.06\n",
      "\n",
      "Iter: 54000\n",
      "D loss: 0.4311\n",
      "G_loss: 3.127\n",
      "\n",
      "Iter: 55000\n",
      "D loss: 0.4544\n",
      "G_loss: 3.071\n",
      "\n",
      "Iter: 56000\n",
      "D loss: 0.4288\n",
      "G_loss: 3.02\n",
      "\n",
      "Iter: 57000\n",
      "D loss: 0.4475\n",
      "G_loss: 2.998\n",
      "\n",
      "Iter: 58000\n",
      "D loss: 0.417\n",
      "G_loss: 3.144\n",
      "\n",
      "Iter: 59000\n",
      "D loss: 0.431\n",
      "G_loss: 3.15\n",
      "\n",
      "Iter: 60000\n",
      "D loss: 0.4423\n",
      "G_loss: 3.159\n",
      "\n",
      "Iter: 61000\n",
      "D loss: 0.4194\n",
      "G_loss: 3.146\n",
      "\n",
      "Iter: 62000\n",
      "D loss: 0.4292\n",
      "G_loss: 3.189\n",
      "\n",
      "Iter: 63000\n",
      "D loss: 0.4437\n",
      "G_loss: 3.173\n",
      "\n",
      "Iter: 64000\n",
      "D loss: 0.4427\n",
      "G_loss: 3.23\n",
      "\n",
      "Iter: 65000\n",
      "D loss: 0.4379\n",
      "G_loss: 3.09\n",
      "\n",
      "Iter: 66000\n",
      "D loss: 0.4312\n",
      "G_loss: 3.104\n",
      "\n",
      "Iter: 67000\n",
      "D loss: 0.4276\n",
      "G_loss: 3.106\n",
      "\n",
      "Iter: 68000\n",
      "D loss: 0.4319\n",
      "G_loss: 3.059\n",
      "\n",
      "Iter: 69000\n",
      "D loss: 0.4112\n",
      "G_loss: 3.174\n",
      "\n",
      "Iter: 70000\n",
      "D loss: 0.4516\n",
      "G_loss: 3.182\n",
      "\n",
      "Iter: 71000\n",
      "D loss: 0.4188\n",
      "G_loss: 3.149\n",
      "\n",
      "Iter: 72000\n",
      "D loss: 0.4325\n",
      "G_loss: 3.282\n",
      "\n",
      "Iter: 73000\n",
      "D loss: 0.4174\n",
      "G_loss: 3.25\n",
      "\n",
      "Iter: 74000\n",
      "D loss: 0.4126\n",
      "G_loss: 3.196\n",
      "\n",
      "Iter: 75000\n",
      "D loss: 0.4249\n",
      "G_loss: 3.165\n",
      "\n",
      "Iter: 76000\n",
      "D loss: 0.4139\n",
      "G_loss: 3.28\n",
      "\n",
      "Iter: 77000\n",
      "D loss: 0.4109\n",
      "G_loss: 3.258\n",
      "\n",
      "Iter: 78000\n",
      "D loss: 0.4421\n",
      "G_loss: 3.273\n",
      "\n",
      "Iter: 79000\n",
      "D loss: 0.4338\n",
      "G_loss: 3.229\n",
      "\n",
      "Iter: 80000\n",
      "D loss: 0.4176\n",
      "G_loss: 3.271\n",
      "\n",
      "Iter: 81000\n",
      "D loss: 0.4238\n",
      "G_loss: 3.151\n",
      "\n",
      "Iter: 82000\n",
      "D loss: 0.4046\n",
      "G_loss: 3.265\n",
      "\n",
      "Iter: 83000\n",
      "D loss: 0.4117\n",
      "G_loss: 3.203\n",
      "\n",
      "Iter: 84000\n",
      "D loss: 0.3959\n",
      "G_loss: 3.267\n",
      "\n",
      "Iter: 85000\n",
      "D loss: 0.3915\n",
      "G_loss: 3.228\n",
      "\n",
      "Iter: 86000\n",
      "D loss: 0.4097\n",
      "G_loss: 3.152\n",
      "\n",
      "Iter: 87000\n",
      "D loss: 0.4155\n",
      "G_loss: 3.296\n",
      "\n",
      "Iter: 88000\n",
      "D loss: 0.3866\n",
      "G_loss: 3.368\n",
      "\n",
      "Iter: 89000\n",
      "D loss: 0.4033\n",
      "G_loss: 3.381\n",
      "\n",
      "Iter: 90000\n",
      "D loss: 0.3829\n",
      "G_loss: 3.431\n",
      "\n",
      "Iter: 91000\n",
      "D loss: 0.3866\n",
      "G_loss: 3.343\n",
      "\n",
      "Iter: 92000\n",
      "D loss: 0.3845\n",
      "G_loss: 3.424\n",
      "\n",
      "Iter: 93000\n",
      "D loss: 0.3984\n",
      "G_loss: 3.291\n",
      "\n",
      "Iter: 94000\n",
      "D loss: 0.3923\n",
      "G_loss: 3.248\n",
      "\n",
      "Iter: 95000\n",
      "D loss: 0.3655\n",
      "G_loss: 3.409\n",
      "\n",
      "Iter: 96000\n",
      "D loss: 0.3758\n",
      "G_loss: 3.389\n",
      "\n",
      "Iter: 97000\n",
      "D loss: 0.3461\n",
      "G_loss: 3.52\n",
      "\n",
      "Iter: 98000\n",
      "D loss: 0.3451\n",
      "G_loss: 3.52\n",
      "\n",
      "Iter: 99000\n",
      "D loss: 0.3557\n",
      "G_loss: 3.592\n",
      "\n"
     ]
    }
   ],
   "source": [
    "mb_size = 10000\n",
    "i = 0\n",
    "for it in range(100000):\n",
    "    if it % 1000 == 0:\n",
    "        samples = sess.run(G_sample, \n",
    "                   feed_dict={Z: sample_Z(16, Z_dim)})\n",
    "        fig = plot(samples)\n",
    "        plt.savefig('out3/{}.png'.format(str(i).zfill(3)), \n",
    "                    bbox_inches='tight')\n",
    "        i += 1\n",
    "        plt.close(fig)\n",
    "\n",
    "    X_mb, _ = mnist.train.next_batch(mb_size)\n",
    "\n",
    "    _, D_loss_curr = sess.run([D_solver, D_loss], \n",
    "                  feed_dict={X: X_mb, Z: sample_Z(mb_size, Z_dim)})\n",
    "    _, G_loss_curr = sess.run([G_solver, G_loss], \n",
    "                  feed_dict={Z: sample_Z(mb_size, Z_dim)})\n",
    "\n",
    "    if it % 1000 == 0:\n",
    "        print('Iter: {}'.format(it))\n",
    "        print('D loss: {:.4}'. format(D_loss_curr))\n",
    "        print('G_loss: {:.4}'.format(G_loss_curr))\n",
    "        print()"
   ]
  },
  {
   "cell_type": "markdown",
   "metadata": {},
   "source": [
    "### Evaluation"
   ]
  }
 ],
 "metadata": {
  "kernelspec": {
   "display_name": "tf3",
   "language": "python",
   "name": "tf3"
  },
  "language_info": {
   "codemirror_mode": {
    "name": "ipython",
    "version": 3
   },
   "file_extension": ".py",
   "mimetype": "text/x-python",
   "name": "python",
   "nbconvert_exporter": "python",
   "pygments_lexer": "ipython3",
   "version": "3.6.1"
  }
 },
 "nbformat": 4,
 "nbformat_minor": 2
}
