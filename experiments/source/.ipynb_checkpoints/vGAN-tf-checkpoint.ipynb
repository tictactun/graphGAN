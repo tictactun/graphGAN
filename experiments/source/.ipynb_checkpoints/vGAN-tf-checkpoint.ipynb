{
 "cells": [
  {
   "cell_type": "code",
   "execution_count": 116,
   "metadata": {
    "collapsed": true
   },
   "outputs": [],
   "source": [
    "import tensorflow as tf\n",
    "from tensorflow.examples.tutorials.mnist import input_data\n",
    "import numpy as np\n",
    "import matplotlib.pyplot as plt\n",
    "import matplotlib.gridspec as gridspec\n",
    "import os"
   ]
  },
  {
   "cell_type": "markdown",
   "metadata": {},
   "source": [
    "### Hyper params"
   ]
  },
  {
   "cell_type": "code",
   "execution_count": 117,
   "metadata": {},
   "outputs": [
    {
     "name": "stdout",
     "output_type": "stream",
     "text": [
      "Extracting ../dataset/MNIST_data/train-images-idx3-ubyte.gz\n",
      "Extracting ../dataset/MNIST_data/train-labels-idx1-ubyte.gz\n",
      "Extracting ../dataset/MNIST_data/t10k-images-idx3-ubyte.gz\n",
      "Extracting ../dataset/MNIST_data/t10k-labels-idx1-ubyte.gz\n"
     ]
    }
   ],
   "source": [
    "mnist = input_data.read_data_sets('../dataset/MNIST_data', one_hot=True)"
   ]
  },
  {
   "cell_type": "code",
   "execution_count": 118,
   "metadata": {
    "collapsed": true
   },
   "outputs": [],
   "source": [
    "mb_size = 64\n",
    "Z_dim = 100\n",
    "X_dim = mnist.train.images.shape[1]\n",
    "y_dim = mnist.train.labels.shape[1]\n",
    "h_dim = 128"
   ]
  },
  {
   "cell_type": "code",
   "execution_count": 119,
   "metadata": {
    "collapsed": true
   },
   "outputs": [],
   "source": [
    "X_side = int(np.sqrt(X_dim))\n",
    "DX_side = int(X_side/2)\n",
    "DX_dim = int(X_dim/4)"
   ]
  },
  {
   "cell_type": "code",
   "execution_count": 120,
   "metadata": {
    "collapsed": true
   },
   "outputs": [],
   "source": [
    "c = 0\n",
    "lr = 1e-3"
   ]
  },
  {
   "cell_type": "code",
   "execution_count": 121,
   "metadata": {
    "collapsed": true
   },
   "outputs": [],
   "source": [
    "def xavier_init(size):\n",
    "    in_dim = size[0]\n",
    "    xavier_stddev = 1. / tf.sqrt(in_dim / 2.)\n",
    "    return tf.random_normal(shape=size, stddev=xavier_stddev)"
   ]
  },
  {
   "cell_type": "markdown",
   "metadata": {},
   "source": [
    "### Geneartor"
   ]
  },
  {
   "cell_type": "code",
   "execution_count": 122,
   "metadata": {
    "collapsed": true
   },
   "outputs": [],
   "source": [
    "Z = tf.placeholder(tf.float32, shape=[None, Z_dim])\n",
    "\n",
    "G_W1 = tf.Variable(xavier_init([Z_dim, h_dim]))\n",
    "G_b1 = tf.Variable(tf.zeros(shape=[h_dim]))\n",
    "\n",
    "G_W2 = tf.Variable(xavier_init([h_dim, X_dim]))\n",
    "G_b2 = tf.Variable(tf.zeros(shape=[X_dim]))\n",
    "\n",
    "theta_G = [G_W1, G_W2, G_b1, G_b2]"
   ]
  },
  {
   "cell_type": "code",
   "execution_count": 123,
   "metadata": {
    "collapsed": true
   },
   "outputs": [],
   "source": [
    "def generator(z):\n",
    "    G_h1 = tf.nn.relu(tf.matmul(z, G_W1) + G_b1)\n",
    "    G_log_prob = tf.matmul(G_h1, G_W2) + G_b2\n",
    "    G_prob = tf.nn.sigmoid(G_log_prob)\n",
    "\n",
    "    return G_prob"
   ]
  },
  {
   "cell_type": "markdown",
   "metadata": {},
   "source": [
    "### Discriminator"
   ]
  },
  {
   "cell_type": "code",
   "execution_count": 124,
   "metadata": {
    "collapsed": true
   },
   "outputs": [],
   "source": [
    "X = tf.placeholder(tf.float32, shape=[None, DX_dim])\n",
    "D_W1 = tf.Variable(xavier_init([DX_dim, h_dim]))\n",
    "D_b1 = tf.Variable(tf.zeros(shape=[h_dim]))\n",
    "\n",
    "D_W2 = tf.Variable(xavier_init([h_dim, 1]))\n",
    "D_b2 = tf.Variable(tf.zeros(shape=[1]))\n",
    "\n",
    "theta_D = [D_W1, D_W2, D_b1, D_b2]"
   ]
  },
  {
   "cell_type": "code",
   "execution_count": 125,
   "metadata": {
    "collapsed": true
   },
   "outputs": [],
   "source": [
    "def discriminator(x):\n",
    "    D_h1 = tf.nn.relu(tf.matmul(x, D_W1) + D_b1)\n",
    "    D_logit = tf.matmul(D_h1, D_W2) + D_b2\n",
    "    D_prob = tf.nn.sigmoid(D_logit)\n",
    "\n",
    "    return D_prob, D_logit"
   ]
  },
  {
   "cell_type": "markdown",
   "metadata": {},
   "source": [
    "###  Training"
   ]
  },
  {
   "cell_type": "code",
   "execution_count": 126,
   "metadata": {
    "collapsed": true
   },
   "outputs": [],
   "source": [
    "def sample_Z(m, n):\n",
    "    return np.random.uniform(-1., 1., size=[m, n]).astype(np.float32)"
   ]
  },
  {
   "cell_type": "code",
   "execution_count": 127,
   "metadata": {},
   "outputs": [],
   "source": [
    "def plot(samples):\n",
    "    fig = plt.figure(figsize=(4, 4))\n",
    "    gs = gridspec.GridSpec(4, 4)\n",
    "    gs.update(wspace=0.05, hspace=0.05)\n",
    "\n",
    "    for i, sample in enumerate(samples):\n",
    "        ax = plt.subplot(gs[i])\n",
    "        plt.axis('off')\n",
    "        ax.set_xticklabels([])\n",
    "        ax.set_yticklabels([])\n",
    "        ax.set_aspect('equal')\n",
    "        plt.imshow(sample.reshape(28, 28), cmap='Greys_r')\n",
    "\n",
    "    return fig"
   ]
  },
  {
   "cell_type": "markdown",
   "metadata": {},
   "source": [
    "#### Generate data"
   ]
  },
  {
   "cell_type": "code",
   "execution_count": 128,
   "metadata": {
    "collapsed": true
   },
   "outputs": [],
   "source": [
    "def resize_image(sample, X_dim, X_side, DX_dim):\n",
    "    dim0 = tf.shape(sample)[0]\n",
    "    sample_reshaped = tf.reshape(sample, (dim0, X_side, X_side))\n",
    "    sample_resized = tf.slice(sample_reshaped, \n",
    "                         [0, 0, 0], [dim0, DX_side, DX_side])\n",
    "    sample_new = tf.reshape(sample_resized , [dim0, DX_dim])\n",
    "    return sample_new"
   ]
  },
  {
   "cell_type": "code",
   "execution_count": 175,
   "metadata": {
    "collapsed": true
   },
   "outputs": [],
   "source": [
    "import random\n",
    "wSet = np.zeros(X_dim).astype('float32')\n",
    "r = random.sample(range(1, X_dim), 500)\n",
    "wSet[r] = 1"
   ]
  },
  {
   "cell_type": "code",
   "execution_count": 176,
   "metadata": {
    "collapsed": true
   },
   "outputs": [],
   "source": [
    "Pw = tf.constant(wSet)"
   ]
  },
  {
   "cell_type": "code",
   "execution_count": 178,
   "metadata": {
    "collapsed": true
   },
   "outputs": [],
   "source": [
    "def pooling(sample, Pw):\n",
    "    dim0 = tf.shape(sample)[0]\n",
    "    B = tf.expand_dims(tf.ones([dim0]), 1) * Pw \n",
    "    sample_new = tf.multiply(sample, B)\n",
    "    return sample_new"
   ]
  },
  {
   "cell_type": "code",
   "execution_count": 186,
   "metadata": {},
   "outputs": [],
   "source": [
    "G_full_sample = generator(Z)\n",
    "G_sample = pooling(G_full_sample, Pw)"
   ]
  },
  {
   "cell_type": "code",
   "execution_count": 187,
   "metadata": {
    "collapsed": true
   },
   "outputs": [],
   "source": [
    "D_real, D_logit_real = discriminator(X)"
   ]
  },
  {
   "cell_type": "code",
   "execution_count": 188,
   "metadata": {},
   "outputs": [
    {
     "ename": "ValueError",
     "evalue": "Dimensions must be equal, but are 784 and 196 for 'MatMul_35' (op: 'MatMul') with input shapes: [?,784], [196,128].",
     "output_type": "error",
     "traceback": [
      "\u001b[0;31m---------------------------------------------------------------------------\u001b[0m",
      "\u001b[0;31mInvalidArgumentError\u001b[0m                      Traceback (most recent call last)",
      "\u001b[0;32m/home/tuandinh/anaconda2/envs/tf3/lib/python3.6/site-packages/tensorflow/python/framework/common_shapes.py\u001b[0m in \u001b[0;36m_call_cpp_shape_fn_impl\u001b[0;34m(op, input_tensors_needed, input_tensors_as_shapes_needed, require_shape_fn)\u001b[0m\n\u001b[1;32m    653\u001b[0m           \u001b[0mgraph_def_version\u001b[0m\u001b[0;34m,\u001b[0m \u001b[0mnode_def_str\u001b[0m\u001b[0;34m,\u001b[0m \u001b[0minput_shapes\u001b[0m\u001b[0;34m,\u001b[0m \u001b[0minput_tensors\u001b[0m\u001b[0;34m,\u001b[0m\u001b[0;34m\u001b[0m\u001b[0m\n\u001b[0;32m--> 654\u001b[0;31m           input_tensors_as_shapes, status)\n\u001b[0m\u001b[1;32m    655\u001b[0m   \u001b[0;32mexcept\u001b[0m \u001b[0merrors\u001b[0m\u001b[0;34m.\u001b[0m\u001b[0mInvalidArgumentError\u001b[0m \u001b[0;32mas\u001b[0m \u001b[0merr\u001b[0m\u001b[0;34m:\u001b[0m\u001b[0;34m\u001b[0m\u001b[0m\n",
      "\u001b[0;32m/home/tuandinh/anaconda2/envs/tf3/lib/python3.6/contextlib.py\u001b[0m in \u001b[0;36m__exit__\u001b[0;34m(self, type, value, traceback)\u001b[0m\n\u001b[1;32m     88\u001b[0m             \u001b[0;32mtry\u001b[0m\u001b[0;34m:\u001b[0m\u001b[0;34m\u001b[0m\u001b[0m\n\u001b[0;32m---> 89\u001b[0;31m                 \u001b[0mnext\u001b[0m\u001b[0;34m(\u001b[0m\u001b[0mself\u001b[0m\u001b[0;34m.\u001b[0m\u001b[0mgen\u001b[0m\u001b[0;34m)\u001b[0m\u001b[0;34m\u001b[0m\u001b[0m\n\u001b[0m\u001b[1;32m     90\u001b[0m             \u001b[0;32mexcept\u001b[0m \u001b[0mStopIteration\u001b[0m\u001b[0;34m:\u001b[0m\u001b[0;34m\u001b[0m\u001b[0m\n",
      "\u001b[0;32m/home/tuandinh/anaconda2/envs/tf3/lib/python3.6/site-packages/tensorflow/python/framework/errors_impl.py\u001b[0m in \u001b[0;36mraise_exception_on_not_ok_status\u001b[0;34m()\u001b[0m\n\u001b[1;32m    465\u001b[0m           \u001b[0mcompat\u001b[0m\u001b[0;34m.\u001b[0m\u001b[0mas_text\u001b[0m\u001b[0;34m(\u001b[0m\u001b[0mpywrap_tensorflow\u001b[0m\u001b[0;34m.\u001b[0m\u001b[0mTF_Message\u001b[0m\u001b[0;34m(\u001b[0m\u001b[0mstatus\u001b[0m\u001b[0;34m)\u001b[0m\u001b[0;34m)\u001b[0m\u001b[0;34m,\u001b[0m\u001b[0;34m\u001b[0m\u001b[0m\n\u001b[0;32m--> 466\u001b[0;31m           pywrap_tensorflow.TF_GetCode(status))\n\u001b[0m\u001b[1;32m    467\u001b[0m   \u001b[0;32mfinally\u001b[0m\u001b[0;34m:\u001b[0m\u001b[0;34m\u001b[0m\u001b[0m\n",
      "\u001b[0;31mInvalidArgumentError\u001b[0m: Dimensions must be equal, but are 784 and 196 for 'MatMul_35' (op: 'MatMul') with input shapes: [?,784], [196,128].",
      "\nDuring handling of the above exception, another exception occurred:\n",
      "\u001b[0;31mValueError\u001b[0m                                Traceback (most recent call last)",
      "\u001b[0;32m<ipython-input-188-2be2c28550c5>\u001b[0m in \u001b[0;36m<module>\u001b[0;34m()\u001b[0m\n\u001b[0;32m----> 1\u001b[0;31m \u001b[0mD_fake\u001b[0m\u001b[0;34m,\u001b[0m \u001b[0mD_logit_fake\u001b[0m \u001b[0;34m=\u001b[0m \u001b[0mdiscriminator\u001b[0m\u001b[0;34m(\u001b[0m\u001b[0mG_sample\u001b[0m\u001b[0;34m)\u001b[0m\u001b[0;34m\u001b[0m\u001b[0m\n\u001b[0m",
      "\u001b[0;32m<ipython-input-125-7cbaa1d64350>\u001b[0m in \u001b[0;36mdiscriminator\u001b[0;34m(x)\u001b[0m\n\u001b[1;32m      1\u001b[0m \u001b[0;32mdef\u001b[0m \u001b[0mdiscriminator\u001b[0m\u001b[0;34m(\u001b[0m\u001b[0mx\u001b[0m\u001b[0;34m)\u001b[0m\u001b[0;34m:\u001b[0m\u001b[0;34m\u001b[0m\u001b[0m\n\u001b[0;32m----> 2\u001b[0;31m     \u001b[0mD_h1\u001b[0m \u001b[0;34m=\u001b[0m \u001b[0mtf\u001b[0m\u001b[0;34m.\u001b[0m\u001b[0mnn\u001b[0m\u001b[0;34m.\u001b[0m\u001b[0mrelu\u001b[0m\u001b[0;34m(\u001b[0m\u001b[0mtf\u001b[0m\u001b[0;34m.\u001b[0m\u001b[0mmatmul\u001b[0m\u001b[0;34m(\u001b[0m\u001b[0mx\u001b[0m\u001b[0;34m,\u001b[0m \u001b[0mD_W1\u001b[0m\u001b[0;34m)\u001b[0m \u001b[0;34m+\u001b[0m \u001b[0mD_b1\u001b[0m\u001b[0;34m)\u001b[0m\u001b[0;34m\u001b[0m\u001b[0m\n\u001b[0m\u001b[1;32m      3\u001b[0m     \u001b[0mD_logit\u001b[0m \u001b[0;34m=\u001b[0m \u001b[0mtf\u001b[0m\u001b[0;34m.\u001b[0m\u001b[0mmatmul\u001b[0m\u001b[0;34m(\u001b[0m\u001b[0mD_h1\u001b[0m\u001b[0;34m,\u001b[0m \u001b[0mD_W2\u001b[0m\u001b[0;34m)\u001b[0m \u001b[0;34m+\u001b[0m \u001b[0mD_b2\u001b[0m\u001b[0;34m\u001b[0m\u001b[0m\n\u001b[1;32m      4\u001b[0m     \u001b[0mD_prob\u001b[0m \u001b[0;34m=\u001b[0m \u001b[0mtf\u001b[0m\u001b[0;34m.\u001b[0m\u001b[0mnn\u001b[0m\u001b[0;34m.\u001b[0m\u001b[0msigmoid\u001b[0m\u001b[0;34m(\u001b[0m\u001b[0mD_logit\u001b[0m\u001b[0;34m)\u001b[0m\u001b[0;34m\u001b[0m\u001b[0m\n\u001b[1;32m      5\u001b[0m \u001b[0;34m\u001b[0m\u001b[0m\n",
      "\u001b[0;32m/home/tuandinh/anaconda2/envs/tf3/lib/python3.6/site-packages/tensorflow/python/ops/math_ops.py\u001b[0m in \u001b[0;36mmatmul\u001b[0;34m(a, b, transpose_a, transpose_b, adjoint_a, adjoint_b, a_is_sparse, b_is_sparse, name)\u001b[0m\n\u001b[1;32m   1842\u001b[0m     \u001b[0;32melse\u001b[0m\u001b[0;34m:\u001b[0m\u001b[0;34m\u001b[0m\u001b[0m\n\u001b[1;32m   1843\u001b[0m       return gen_math_ops._mat_mul(\n\u001b[0;32m-> 1844\u001b[0;31m           a, b, transpose_a=transpose_a, transpose_b=transpose_b, name=name)\n\u001b[0m\u001b[1;32m   1845\u001b[0m \u001b[0;34m\u001b[0m\u001b[0m\n\u001b[1;32m   1846\u001b[0m \u001b[0;34m\u001b[0m\u001b[0m\n",
      "\u001b[0;32m/home/tuandinh/anaconda2/envs/tf3/lib/python3.6/site-packages/tensorflow/python/ops/gen_math_ops.py\u001b[0m in \u001b[0;36m_mat_mul\u001b[0;34m(a, b, transpose_a, transpose_b, name)\u001b[0m\n\u001b[1;32m   1287\u001b[0m   \"\"\"\n\u001b[1;32m   1288\u001b[0m   result = _op_def_lib.apply_op(\"MatMul\", a=a, b=b, transpose_a=transpose_a,\n\u001b[0;32m-> 1289\u001b[0;31m                                 transpose_b=transpose_b, name=name)\n\u001b[0m\u001b[1;32m   1290\u001b[0m   \u001b[0;32mreturn\u001b[0m \u001b[0mresult\u001b[0m\u001b[0;34m\u001b[0m\u001b[0m\n\u001b[1;32m   1291\u001b[0m \u001b[0;34m\u001b[0m\u001b[0m\n",
      "\u001b[0;32m/home/tuandinh/anaconda2/envs/tf3/lib/python3.6/site-packages/tensorflow/python/framework/op_def_library.py\u001b[0m in \u001b[0;36mapply_op\u001b[0;34m(self, op_type_name, name, **keywords)\u001b[0m\n\u001b[1;32m    765\u001b[0m         op = g.create_op(op_type_name, inputs, output_types, name=scope,\n\u001b[1;32m    766\u001b[0m                          \u001b[0minput_types\u001b[0m\u001b[0;34m=\u001b[0m\u001b[0minput_types\u001b[0m\u001b[0;34m,\u001b[0m \u001b[0mattrs\u001b[0m\u001b[0;34m=\u001b[0m\u001b[0mattr_protos\u001b[0m\u001b[0;34m,\u001b[0m\u001b[0;34m\u001b[0m\u001b[0m\n\u001b[0;32m--> 767\u001b[0;31m                          op_def=op_def)\n\u001b[0m\u001b[1;32m    768\u001b[0m         \u001b[0;32mif\u001b[0m \u001b[0moutput_structure\u001b[0m\u001b[0;34m:\u001b[0m\u001b[0;34m\u001b[0m\u001b[0m\n\u001b[1;32m    769\u001b[0m           \u001b[0moutputs\u001b[0m \u001b[0;34m=\u001b[0m \u001b[0mop\u001b[0m\u001b[0;34m.\u001b[0m\u001b[0moutputs\u001b[0m\u001b[0;34m\u001b[0m\u001b[0m\n",
      "\u001b[0;32m/home/tuandinh/anaconda2/envs/tf3/lib/python3.6/site-packages/tensorflow/python/framework/ops.py\u001b[0m in \u001b[0;36mcreate_op\u001b[0;34m(self, op_type, inputs, dtypes, input_types, name, attrs, op_def, compute_shapes, compute_device)\u001b[0m\n\u001b[1;32m   2630\u001b[0m                     original_op=self._default_original_op, op_def=op_def)\n\u001b[1;32m   2631\u001b[0m     \u001b[0;32mif\u001b[0m \u001b[0mcompute_shapes\u001b[0m\u001b[0;34m:\u001b[0m\u001b[0;34m\u001b[0m\u001b[0m\n\u001b[0;32m-> 2632\u001b[0;31m       \u001b[0mset_shapes_for_outputs\u001b[0m\u001b[0;34m(\u001b[0m\u001b[0mret\u001b[0m\u001b[0;34m)\u001b[0m\u001b[0;34m\u001b[0m\u001b[0m\n\u001b[0m\u001b[1;32m   2633\u001b[0m     \u001b[0mself\u001b[0m\u001b[0;34m.\u001b[0m\u001b[0m_add_op\u001b[0m\u001b[0;34m(\u001b[0m\u001b[0mret\u001b[0m\u001b[0;34m)\u001b[0m\u001b[0;34m\u001b[0m\u001b[0m\n\u001b[1;32m   2634\u001b[0m     \u001b[0mself\u001b[0m\u001b[0;34m.\u001b[0m\u001b[0m_record_op_seen_by_control_dependencies\u001b[0m\u001b[0;34m(\u001b[0m\u001b[0mret\u001b[0m\u001b[0;34m)\u001b[0m\u001b[0;34m\u001b[0m\u001b[0m\n",
      "\u001b[0;32m/home/tuandinh/anaconda2/envs/tf3/lib/python3.6/site-packages/tensorflow/python/framework/ops.py\u001b[0m in \u001b[0;36mset_shapes_for_outputs\u001b[0;34m(op)\u001b[0m\n\u001b[1;32m   1909\u001b[0m       \u001b[0mshape_func\u001b[0m \u001b[0;34m=\u001b[0m \u001b[0m_call_cpp_shape_fn_and_require_op\u001b[0m\u001b[0;34m\u001b[0m\u001b[0m\n\u001b[1;32m   1910\u001b[0m \u001b[0;34m\u001b[0m\u001b[0m\n\u001b[0;32m-> 1911\u001b[0;31m   \u001b[0mshapes\u001b[0m \u001b[0;34m=\u001b[0m \u001b[0mshape_func\u001b[0m\u001b[0;34m(\u001b[0m\u001b[0mop\u001b[0m\u001b[0;34m)\u001b[0m\u001b[0;34m\u001b[0m\u001b[0m\n\u001b[0m\u001b[1;32m   1912\u001b[0m   \u001b[0;32mif\u001b[0m \u001b[0mshapes\u001b[0m \u001b[0;32mis\u001b[0m \u001b[0;32mNone\u001b[0m\u001b[0;34m:\u001b[0m\u001b[0;34m\u001b[0m\u001b[0m\n\u001b[1;32m   1913\u001b[0m     raise RuntimeError(\n",
      "\u001b[0;32m/home/tuandinh/anaconda2/envs/tf3/lib/python3.6/site-packages/tensorflow/python/framework/ops.py\u001b[0m in \u001b[0;36mcall_with_requiring\u001b[0;34m(op)\u001b[0m\n\u001b[1;32m   1859\u001b[0m \u001b[0;34m\u001b[0m\u001b[0m\n\u001b[1;32m   1860\u001b[0m   \u001b[0;32mdef\u001b[0m \u001b[0mcall_with_requiring\u001b[0m\u001b[0;34m(\u001b[0m\u001b[0mop\u001b[0m\u001b[0;34m)\u001b[0m\u001b[0;34m:\u001b[0m\u001b[0;34m\u001b[0m\u001b[0m\n\u001b[0;32m-> 1861\u001b[0;31m     \u001b[0;32mreturn\u001b[0m \u001b[0mcall_cpp_shape_fn\u001b[0m\u001b[0;34m(\u001b[0m\u001b[0mop\u001b[0m\u001b[0;34m,\u001b[0m \u001b[0mrequire_shape_fn\u001b[0m\u001b[0;34m=\u001b[0m\u001b[0;32mTrue\u001b[0m\u001b[0;34m)\u001b[0m\u001b[0;34m\u001b[0m\u001b[0m\n\u001b[0m\u001b[1;32m   1862\u001b[0m \u001b[0;34m\u001b[0m\u001b[0m\n\u001b[1;32m   1863\u001b[0m   \u001b[0m_call_cpp_shape_fn_and_require_op\u001b[0m \u001b[0;34m=\u001b[0m \u001b[0mcall_with_requiring\u001b[0m\u001b[0;34m\u001b[0m\u001b[0m\n",
      "\u001b[0;32m/home/tuandinh/anaconda2/envs/tf3/lib/python3.6/site-packages/tensorflow/python/framework/common_shapes.py\u001b[0m in \u001b[0;36mcall_cpp_shape_fn\u001b[0;34m(op, require_shape_fn)\u001b[0m\n\u001b[1;32m    593\u001b[0m     res = _call_cpp_shape_fn_impl(op, input_tensors_needed,\n\u001b[1;32m    594\u001b[0m                                   \u001b[0minput_tensors_as_shapes_needed\u001b[0m\u001b[0;34m,\u001b[0m\u001b[0;34m\u001b[0m\u001b[0m\n\u001b[0;32m--> 595\u001b[0;31m                                   require_shape_fn)\n\u001b[0m\u001b[1;32m    596\u001b[0m     \u001b[0;32mif\u001b[0m \u001b[0;32mnot\u001b[0m \u001b[0misinstance\u001b[0m\u001b[0;34m(\u001b[0m\u001b[0mres\u001b[0m\u001b[0;34m,\u001b[0m \u001b[0mdict\u001b[0m\u001b[0;34m)\u001b[0m\u001b[0;34m:\u001b[0m\u001b[0;34m\u001b[0m\u001b[0m\n\u001b[1;32m    597\u001b[0m       \u001b[0;31m# Handles the case where _call_cpp_shape_fn_impl calls unknown_shape(op).\u001b[0m\u001b[0;34m\u001b[0m\u001b[0;34m\u001b[0m\u001b[0m\n",
      "\u001b[0;32m/home/tuandinh/anaconda2/envs/tf3/lib/python3.6/site-packages/tensorflow/python/framework/common_shapes.py\u001b[0m in \u001b[0;36m_call_cpp_shape_fn_impl\u001b[0;34m(op, input_tensors_needed, input_tensors_as_shapes_needed, require_shape_fn)\u001b[0m\n\u001b[1;32m    657\u001b[0m       \u001b[0mmissing_shape_fn\u001b[0m \u001b[0;34m=\u001b[0m \u001b[0;32mTrue\u001b[0m\u001b[0;34m\u001b[0m\u001b[0m\n\u001b[1;32m    658\u001b[0m     \u001b[0;32melse\u001b[0m\u001b[0;34m:\u001b[0m\u001b[0;34m\u001b[0m\u001b[0m\n\u001b[0;32m--> 659\u001b[0;31m       \u001b[0;32mraise\u001b[0m \u001b[0mValueError\u001b[0m\u001b[0;34m(\u001b[0m\u001b[0merr\u001b[0m\u001b[0;34m.\u001b[0m\u001b[0mmessage\u001b[0m\u001b[0;34m)\u001b[0m\u001b[0;34m\u001b[0m\u001b[0m\n\u001b[0m\u001b[1;32m    660\u001b[0m \u001b[0;34m\u001b[0m\u001b[0m\n\u001b[1;32m    661\u001b[0m   \u001b[0;32mif\u001b[0m \u001b[0mmissing_shape_fn\u001b[0m\u001b[0;34m:\u001b[0m\u001b[0;34m\u001b[0m\u001b[0m\n",
      "\u001b[0;31mValueError\u001b[0m: Dimensions must be equal, but are 784 and 196 for 'MatMul_35' (op: 'MatMul') with input shapes: [?,784], [196,128]."
     ]
    }
   ],
   "source": [
    "D_fake, D_logit_fake = discriminator(G_sample)"
   ]
  },
  {
   "cell_type": "markdown",
   "metadata": {},
   "source": [
    "#### Loss"
   ]
  },
  {
   "cell_type": "code",
   "execution_count": 18,
   "metadata": {
    "collapsed": true
   },
   "outputs": [],
   "source": [
    "D_loss_real = tf.reduce_mean(\n",
    "    tf.nn.sigmoid_cross_entropy_with_logits(\n",
    "        logits=D_logit_real, labels=tf.ones_like(D_logit_real)))\n",
    "D_loss_fake = tf.reduce_mean(\n",
    "    tf.nn.sigmoid_cross_entropy_with_logits(\n",
    "        logits=D_logit_fake, labels=tf.zeros_like(D_logit_fake)))\n",
    "D_loss = D_loss_real + D_loss_fake\n",
    "\n",
    "G_gan_loss = tf.reduce_mean(\n",
    "    tf.nn.sigmoid_cross_entropy_with_logits(\n",
    "        logits=D_logit_fake, labels=tf.ones_like(D_logit_fake)))\n",
    "G_reg = tf.reduce_mean(tf.abs(G_full_sample)) \n",
    "alpha = 0.7\n",
    "G_loss = G_gan_loss + alpha * G_reg"
   ]
  },
  {
   "cell_type": "markdown",
   "metadata": {},
   "source": [
    "#### Optimize"
   ]
  },
  {
   "cell_type": "code",
   "execution_count": 19,
   "metadata": {
    "collapsed": true
   },
   "outputs": [],
   "source": [
    "D_solver = tf.train.AdamOptimizer().minimize(D_loss, var_list=theta_D)\n",
    "G_solver = tf.train.AdamOptimizer().minimize(G_loss, var_list=theta_G)"
   ]
  },
  {
   "cell_type": "markdown",
   "metadata": {},
   "source": [
    "#### Running"
   ]
  },
  {
   "cell_type": "code",
   "execution_count": 143,
   "metadata": {
    "collapsed": true
   },
   "outputs": [],
   "source": [
    "sess = tf.Session()\n",
    "sess.run(tf.global_variables_initializer())"
   ]
  },
  {
   "cell_type": "code",
   "execution_count": 20,
   "metadata": {
    "collapsed": true
   },
   "outputs": [],
   "source": [
    "if not os.path.exists('out2/'):\n",
    "    os.makedirs('out2/')"
   ]
  },
  {
   "cell_type": "code",
   "execution_count": 145,
   "metadata": {},
   "outputs": [
    {
     "name": "stdout",
     "output_type": "stream",
     "text": [
      "Iter: 0\n",
      "D loss: 1.1\n",
      "G_loss: 1.306\n",
      "\n",
      "Iter: 1000\n",
      "D loss: 0.01342\n",
      "G_loss: 6.508\n",
      "\n",
      "Iter: 2000\n",
      "D loss: 0.1073\n",
      "G_loss: 4.056\n",
      "\n",
      "Iter: 3000\n",
      "D loss: 0.5582\n",
      "G_loss: 2.058\n",
      "\n",
      "Iter: 4000\n",
      "D loss: 0.8904\n",
      "G_loss: 1.54\n",
      "\n",
      "Iter: 5000\n",
      "D loss: 1.017\n",
      "G_loss: 1.305\n",
      "\n",
      "Iter: 6000\n",
      "D loss: 0.9105\n",
      "G_loss: 1.226\n",
      "\n",
      "Iter: 7000\n",
      "D loss: 1.063\n",
      "G_loss: 1.272\n",
      "\n",
      "Iter: 8000\n",
      "D loss: 1.027\n",
      "G_loss: 1.358\n",
      "\n",
      "Iter: 9000\n",
      "D loss: 1.141\n",
      "G_loss: 1.122\n",
      "\n",
      "Iter: 10000\n",
      "D loss: 1.115\n",
      "G_loss: 1.049\n",
      "\n",
      "Iter: 11000\n",
      "D loss: 1.236\n",
      "G_loss: 1.271\n",
      "\n",
      "Iter: 12000\n",
      "D loss: 1.217\n",
      "G_loss: 1.207\n",
      "\n",
      "Iter: 13000\n",
      "D loss: 0.9655\n",
      "G_loss: 1.208\n",
      "\n",
      "Iter: 14000\n",
      "D loss: 1.215\n",
      "G_loss: 1.066\n",
      "\n",
      "Iter: 15000\n",
      "D loss: 1.765\n",
      "G_loss: 0.9935\n",
      "\n",
      "Iter: 16000\n",
      "D loss: 1.166\n",
      "G_loss: 0.887\n",
      "\n",
      "Iter: 17000\n",
      "D loss: 1.171\n",
      "G_loss: 1.04\n",
      "\n",
      "Iter: 18000\n",
      "D loss: 1.197\n",
      "G_loss: 0.8866\n",
      "\n",
      "Iter: 19000\n",
      "D loss: 1.123\n",
      "G_loss: 1.012\n",
      "\n",
      "Iter: 20000\n",
      "D loss: 1.177\n",
      "G_loss: 0.9831\n",
      "\n",
      "Iter: 21000\n",
      "D loss: 1.242\n",
      "G_loss: 0.927\n",
      "\n",
      "Iter: 22000\n",
      "D loss: 1.086\n",
      "G_loss: 0.9814\n",
      "\n",
      "Iter: 23000\n",
      "D loss: 1.276\n",
      "G_loss: 0.9844\n",
      "\n",
      "Iter: 24000\n",
      "D loss: 1.201\n",
      "G_loss: 0.8735\n",
      "\n",
      "Iter: 25000\n",
      "D loss: 1.252\n",
      "G_loss: 0.9102\n",
      "\n",
      "Iter: 26000\n",
      "D loss: 1.259\n",
      "G_loss: 1.002\n",
      "\n",
      "Iter: 27000\n",
      "D loss: 1.217\n",
      "G_loss: 1.074\n",
      "\n",
      "Iter: 28000\n",
      "D loss: 1.292\n",
      "G_loss: 0.8928\n",
      "\n",
      "Iter: 29000\n",
      "D loss: 1.146\n",
      "G_loss: 0.9082\n",
      "\n",
      "Iter: 30000\n",
      "D loss: 1.183\n",
      "G_loss: 0.8785\n",
      "\n",
      "Iter: 31000\n",
      "D loss: 1.007\n",
      "G_loss: 0.9776\n",
      "\n",
      "Iter: 32000\n",
      "D loss: 1.228\n",
      "G_loss: 0.9766\n",
      "\n",
      "Iter: 33000\n",
      "D loss: 1.427\n",
      "G_loss: 0.9871\n",
      "\n",
      "Iter: 34000\n",
      "D loss: 1.152\n",
      "G_loss: 0.9054\n",
      "\n",
      "Iter: 35000\n",
      "D loss: 1.219\n",
      "G_loss: 1.243\n",
      "\n",
      "Iter: 36000\n",
      "D loss: 1.194\n",
      "G_loss: 0.9587\n",
      "\n",
      "Iter: 37000\n",
      "D loss: 1.27\n",
      "G_loss: 1.083\n",
      "\n",
      "Iter: 38000\n",
      "D loss: 1.243\n",
      "G_loss: 0.9491\n",
      "\n",
      "Iter: 39000\n",
      "D loss: 1.222\n",
      "G_loss: 0.9487\n",
      "\n",
      "Iter: 40000\n",
      "D loss: 1.256\n",
      "G_loss: 0.9222\n",
      "\n",
      "Iter: 41000\n",
      "D loss: 1.235\n",
      "G_loss: 0.9299\n",
      "\n",
      "Iter: 42000\n",
      "D loss: 1.155\n",
      "G_loss: 0.964\n",
      "\n",
      "Iter: 43000\n",
      "D loss: 1.215\n",
      "G_loss: 0.9186\n",
      "\n",
      "Iter: 44000\n",
      "D loss: 0.8369\n",
      "G_loss: 1.807\n",
      "\n",
      "Iter: 45000\n",
      "D loss: 1.207\n",
      "G_loss: 0.9488\n",
      "\n",
      "Iter: 46000\n",
      "D loss: 1.152\n",
      "G_loss: 0.9606\n",
      "\n",
      "Iter: 47000\n",
      "D loss: 1.144\n",
      "G_loss: 0.9411\n",
      "\n",
      "Iter: 48000\n",
      "D loss: 1.161\n",
      "G_loss: 0.9375\n",
      "\n",
      "Iter: 49000\n",
      "D loss: 1.169\n",
      "G_loss: 0.9668\n",
      "\n",
      "Iter: 50000\n",
      "D loss: 1.349\n",
      "G_loss: 0.9508\n",
      "\n",
      "Iter: 51000\n",
      "D loss: 1.165\n",
      "G_loss: 0.8643\n",
      "\n",
      "Iter: 52000\n",
      "D loss: 1.154\n",
      "G_loss: 0.8933\n",
      "\n",
      "Iter: 53000\n",
      "D loss: 1.232\n",
      "G_loss: 0.9584\n",
      "\n",
      "Iter: 54000\n",
      "D loss: 1.134\n",
      "G_loss: 0.8086\n",
      "\n",
      "Iter: 55000\n",
      "D loss: 1.207\n",
      "G_loss: 0.9501\n",
      "\n",
      "Iter: 56000\n",
      "D loss: 1.179\n",
      "G_loss: 0.9028\n",
      "\n",
      "Iter: 57000\n",
      "D loss: 1.181\n",
      "G_loss: 0.9375\n",
      "\n",
      "Iter: 58000\n",
      "D loss: 1.201\n",
      "G_loss: 0.9775\n",
      "\n",
      "Iter: 59000\n",
      "D loss: 1.154\n",
      "G_loss: 0.9826\n",
      "\n",
      "Iter: 60000\n",
      "D loss: 1.17\n",
      "G_loss: 0.9885\n",
      "\n",
      "Iter: 61000\n",
      "D loss: 1.229\n",
      "G_loss: 0.9728\n",
      "\n",
      "Iter: 62000\n",
      "D loss: 1.206\n",
      "G_loss: 0.9796\n",
      "\n",
      "Iter: 63000\n",
      "D loss: 1.296\n",
      "G_loss: 0.9249\n",
      "\n",
      "Iter: 64000\n",
      "D loss: 1.256\n",
      "G_loss: 0.8835\n",
      "\n",
      "Iter: 65000\n",
      "D loss: 1.234\n",
      "G_loss: 0.9103\n",
      "\n",
      "Iter: 66000\n",
      "D loss: 1.298\n",
      "G_loss: 0.9529\n",
      "\n",
      "Iter: 67000\n",
      "D loss: 1.269\n",
      "G_loss: 1.014\n",
      "\n",
      "Iter: 68000\n",
      "D loss: 1.236\n",
      "G_loss: 0.9892\n",
      "\n",
      "Iter: 69000\n",
      "D loss: 1.145\n",
      "G_loss: 0.8868\n",
      "\n",
      "Iter: 70000\n",
      "D loss: 1.207\n",
      "G_loss: 0.9103\n",
      "\n",
      "Iter: 71000\n",
      "D loss: 1.284\n",
      "G_loss: 1.004\n",
      "\n",
      "Iter: 72000\n",
      "D loss: 1.166\n",
      "G_loss: 0.8602\n",
      "\n",
      "Iter: 73000\n",
      "D loss: 1.218\n",
      "G_loss: 0.9211\n",
      "\n",
      "Iter: 74000\n",
      "D loss: 1.17\n",
      "G_loss: 0.895\n",
      "\n",
      "Iter: 75000\n",
      "D loss: 1.165\n",
      "G_loss: 0.8911\n",
      "\n",
      "Iter: 76000\n",
      "D loss: 1.243\n",
      "G_loss: 0.9035\n",
      "\n",
      "Iter: 77000\n",
      "D loss: 1.175\n",
      "G_loss: 0.9886\n",
      "\n",
      "Iter: 78000\n",
      "D loss: 1.263\n",
      "G_loss: 0.957\n",
      "\n",
      "Iter: 79000\n",
      "D loss: 1.298\n",
      "G_loss: 0.9402\n",
      "\n",
      "Iter: 80000\n",
      "D loss: 1.257\n",
      "G_loss: 0.9018\n",
      "\n",
      "Iter: 81000\n",
      "D loss: 1.301\n",
      "G_loss: 0.8819\n",
      "\n",
      "Iter: 82000\n",
      "D loss: 1.158\n",
      "G_loss: 1.015\n",
      "\n",
      "Iter: 83000\n",
      "D loss: 1.202\n",
      "G_loss: 1.028\n",
      "\n",
      "Iter: 84000\n",
      "D loss: 1.185\n",
      "G_loss: 0.9288\n",
      "\n",
      "Iter: 85000\n",
      "D loss: 1.389\n",
      "G_loss: 0.9409\n",
      "\n",
      "Iter: 86000\n",
      "D loss: 1.203\n",
      "G_loss: 0.9922\n",
      "\n",
      "Iter: 87000\n",
      "D loss: 1.193\n",
      "G_loss: 1.047\n",
      "\n",
      "Iter: 88000\n",
      "D loss: 1.139\n",
      "G_loss: 0.9498\n",
      "\n",
      "Iter: 89000\n",
      "D loss: 1.123\n",
      "G_loss: 0.858\n",
      "\n",
      "Iter: 90000\n",
      "D loss: 1.149\n",
      "G_loss: 1.071\n",
      "\n",
      "Iter: 91000\n",
      "D loss: 1.141\n",
      "G_loss: 1.143\n",
      "\n",
      "Iter: 92000\n",
      "D loss: 0.9864\n",
      "G_loss: 0.968\n",
      "\n",
      "Iter: 93000\n",
      "D loss: 1.169\n",
      "G_loss: 1.034\n",
      "\n",
      "Iter: 94000\n",
      "D loss: 1.194\n",
      "G_loss: 1.054\n",
      "\n",
      "Iter: 95000\n",
      "D loss: 1.726\n",
      "G_loss: 1.211\n",
      "\n",
      "Iter: 96000\n",
      "D loss: 1.224\n",
      "G_loss: 1.033\n",
      "\n",
      "Iter: 97000\n",
      "D loss: 1.262\n",
      "G_loss: 0.9758\n",
      "\n",
      "Iter: 98000\n",
      "D loss: 1.275\n",
      "G_loss: 0.8414\n",
      "\n",
      "Iter: 99000\n",
      "D loss: 1.178\n",
      "G_loss: 1.007\n",
      "\n"
     ]
    }
   ],
   "source": [
    "i = 0\n",
    "for it in range(100000):\n",
    "    if it % 1000 == 0:\n",
    "        samples = sess.run(G_full_sample, \n",
    "                   feed_dict={Z: sample_Z(16, Z_dim)})\n",
    "        fig = plot(samples)\n",
    "        plt.savefig('out/{}.png'.format(str(i).zfill(3)), \n",
    "                    bbox_inches='tight')\n",
    "        i += 1\n",
    "        plt.close(fig)\n",
    "\n",
    "    X_full, _ = mnist.train.next_batch(mb_size)\n",
    "    X_mb = pooling(X_full, Pw) \n",
    "\n",
    "    _, D_loss_curr = sess.run([D_solver, D_loss], \n",
    "                  feed_dict={X: X_mb, Z: sample_Z(mb_size, Z_dim)})\n",
    "    _, G_loss_curr = sess.run([G_solver, G_loss], \n",
    "                  feed_dict={Z: sample_Z(mb_size, Z_dim)})\n",
    "\n",
    "    if it % 1000 == 0:\n",
    "        print('Iter: {}'.format(it))\n",
    "        print('D loss: {:.4}'. format(D_loss_curr))\n",
    "        print('G_loss: {:.4}'.format(G_loss_curr))\n",
    "        print()"
   ]
  },
  {
   "cell_type": "code",
   "execution_count": 138,
   "metadata": {
    "collapsed": true
   },
   "outputs": [],
   "source": [
    "session = tf.InteractiveSession()"
   ]
  },
  {
   "cell_type": "code",
   "execution_count": 159,
   "metadata": {
    "collapsed": true
   },
   "outputs": [],
   "source": [
    "x = tf.Variable(tf.ones([3, 4]), name=\"x\")"
   ]
  },
  {
   "cell_type": "code",
   "execution_count": 160,
   "metadata": {},
   "outputs": [],
   "source": [
    "session.run(tf.global_variables_initializer())"
   ]
  },
  {
   "cell_type": "code",
   "execution_count": 179,
   "metadata": {
    "collapsed": true
   },
   "outputs": [],
   "source": [
    "p = tf.constant([1.0, 0, 0, 1.0])"
   ]
  },
  {
   "cell_type": "code",
   "execution_count": 180,
   "metadata": {},
   "outputs": [],
   "source": [
    "r = pooling(x, p)"
   ]
  },
  {
   "cell_type": "code",
   "execution_count": 183,
   "metadata": {},
   "outputs": [
    {
     "data": {
      "text/plain": [
       "array([3, 4], dtype=int32)"
      ]
     },
     "execution_count": 183,
     "metadata": {},
     "output_type": "execute_result"
    }
   ],
   "source": [
    "session.run(tf.shape(r))"
   ]
  },
  {
   "cell_type": "code",
   "execution_count": null,
   "metadata": {
    "collapsed": true
   },
   "outputs": [],
   "source": []
  }
 ],
 "metadata": {
  "kernelspec": {
   "display_name": "tf3",
   "language": "python",
   "name": "tf3"
  },
  "language_info": {
   "codemirror_mode": {
    "name": "ipython",
    "version": 3
   },
   "file_extension": ".py",
   "mimetype": "text/x-python",
   "name": "python",
   "nbconvert_exporter": "python",
   "pygments_lexer": "ipython3",
   "version": "3.6.1"
  }
 },
 "nbformat": 4,
 "nbformat_minor": 2
}
